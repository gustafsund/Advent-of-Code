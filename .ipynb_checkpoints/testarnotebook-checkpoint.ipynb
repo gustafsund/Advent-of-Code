{
 "cells": [
  {
   "cell_type": "code",
   "execution_count": null,
   "id": "f64bee19",
   "metadata": {},
   "outputs": [],
   "source": [
    "csv_dir = 'expense_report.csv'\n",
    "\n",
    "\n",
    "def get_data():\n",
    "    with open(csv_dir) as csv_file:\n",
    "        data = csv_file.readlines()\n",
    "        \n",
    "    \n",
    "    for i in range(len(data)):\n",
    "        data[i] = int(data[i])\n",
    "    return data\n",
    "    \n",
    "def find_pair(dat):\n",
    "    for i in range(len(dat)):\n",
    "        current = dat[i]\n",
    "        for k in range(i,len(dat)):\n",
    "            if current + dat[k] == 2020:\n",
    "                pair = list([current,dat[k]])\n",
    "            else:\n",
    "                pass\n",
    "    return pair\n",
    "\n",
    "def main():\n",
    "    data = get_data()\n",
    "    p = find_pair(data)\n",
    "    s = p[0]*p[1]\n",
    "    print(s)\n",
    "    print('Hej där!')\n",
    "\n",
    "    \n",
    "main()    \n"
   ]
  }
 ],
 "metadata": {
  "kernelspec": {
   "display_name": "Python 3",
   "language": "python",
   "name": "python3"
  },
  "language_info": {
   "codemirror_mode": {
    "name": "ipython",
    "version": 3
   },
   "file_extension": ".py",
   "mimetype": "text/x-python",
   "name": "python",
   "nbconvert_exporter": "python",
   "pygments_lexer": "ipython3",
   "version": "3.8.5"
  }
 },
 "nbformat": 4,
 "nbformat_minor": 5
}
