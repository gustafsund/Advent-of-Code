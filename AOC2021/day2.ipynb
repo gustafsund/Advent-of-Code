{
 "cells": [
  {
   "cell_type": "code",
   "execution_count": 2,
   "metadata": {},
   "outputs": [
    {
     "name": "stdout",
     "output_type": "stream",
     "text": [
      "Answer: 1383564\n"
     ]
    }
   ],
   "source": [
    "from_file = open('input/dataday2.txt','r').read().splitlines()\n",
    "pos = {'x':0,'y':0}\n",
    "for move in from_file:\n",
    "    dir,step = move.split()\n",
    "    if dir.lower() == 'forward':\n",
    "        pos['x'] += int(step)\n",
    "    elif dir.lower() == 'down':\n",
    "        pos['y'] += int(step)\n",
    "    else:\n",
    "        pos['y'] -= int(step)\n",
    "\n",
    "x = pos['x']\n",
    "y = pos['y']\n",
    "print(f'Answer: {x*y}')"
   ]
  },
  {
   "cell_type": "code",
   "execution_count": 7,
   "metadata": {},
   "outputs": [
    {
     "name": "stdout",
     "output_type": "stream",
     "text": [
      "Answer: 1488311643\n"
     ]
    }
   ],
   "source": [
    "new_pos = {'x':0,'y':0,'aim':0}\n",
    "\n",
    "for move in from_file:\n",
    "    dir,step = move.split()\n",
    "    if dir.lower() == 'forward':\n",
    "        new_pos['x'] += int(step)\n",
    "        new_pos['y'] += new_pos['aim']*int(step)\n",
    "    elif dir.lower() == 'down':\n",
    "        new_pos['aim'] += int(step)\n",
    "    else:\n",
    "        new_pos['aim'] -= int(step)\n",
    "x = new_pos['x']\n",
    "y = new_pos['y']\n",
    "\n",
    "print(f'Answer: {x*y}')"
   ]
  },
  {
   "cell_type": "code",
   "execution_count": 8,
   "metadata": {},
   "outputs": [
    {
     "data": {
      "text/plain": [
       "{'x': 1911, 'y': 778813, 'aim': 724}"
      ]
     },
     "execution_count": 8,
     "metadata": {},
     "output_type": "execute_result"
    }
   ],
   "source": [
    "new_pos"
   ]
  }
 ],
 "metadata": {
  "interpreter": {
   "hash": "916dbcbb3f70747c44a77c7bcd40155683ae19c65e1c03b4aa3499c5328201f1"
  },
  "kernelspec": {
   "display_name": "Python 3.8.10 64-bit",
   "language": "python",
   "name": "python3"
  },
  "language_info": {
   "codemirror_mode": {
    "name": "ipython",
    "version": 3
   },
   "file_extension": ".py",
   "mimetype": "text/x-python",
   "name": "python",
   "nbconvert_exporter": "python",
   "pygments_lexer": "ipython3",
   "version": "3.8.10"
  },
  "orig_nbformat": 4
 },
 "nbformat": 4,
 "nbformat_minor": 2
}
