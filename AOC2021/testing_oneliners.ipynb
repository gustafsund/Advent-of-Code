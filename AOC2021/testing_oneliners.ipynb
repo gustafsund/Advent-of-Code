{
 "cells": [
  {
   "cell_type": "code",
   "execution_count": 1,
   "metadata": {},
   "outputs": [],
   "source": [
    "import numpy as np\n"
   ]
  },
  {
   "cell_type": "code",
   "execution_count": 15,
   "metadata": {},
   "outputs": [
    {
     "data": {
      "text/plain": [
       "['593,10 ', ' 593,98']"
      ]
     },
     "execution_count": 15,
     "metadata": {},
     "output_type": "execute_result"
    }
   ],
   "source": [
    "m = open('input/dataday5.txt','r').readlines()[0].rstrip('\\n').split('->')\n",
    "a,b = [tuple(map(int,x.strip().split(','))) for x in m]\n",
    "m"
   ]
  },
  {
   "cell_type": "code",
   "execution_count": 16,
   "metadata": {},
   "outputs": [
    {
     "data": {
      "text/plain": [
       "(593, 98)"
      ]
     },
     "execution_count": 16,
     "metadata": {},
     "output_type": "execute_result"
    }
   ],
   "source": [
    "b"
   ]
  },
  {
   "cell_type": "code",
   "execution_count": 7,
   "metadata": {},
   "outputs": [
    {
     "data": {
      "text/plain": [
       "3"
      ]
     },
     "execution_count": 7,
     "metadata": {},
     "output_type": "execute_result"
    }
   ],
   "source": [
    "import numpy as np\n",
    "a = np.array([[1,2,3],[2,3,2]])\n",
    "(a==2).sum()"
   ]
  },
  {
   "cell_type": "code",
   "execution_count": 11,
   "metadata": {},
   "outputs": [],
   "source": [
    "import numpy as np\n",
    "\n",
    "def get_lines():\n",
    "    with open('input/dataday5.txt','r') as f:\n",
    "        lines = f.readlines()\n",
    "        v1 = []\n",
    "        v2 = []\n",
    "        max_x = 0\n",
    "        max_y = 0\n",
    "        for i,line in enumerate(lines):\n",
    "            m = line.rstrip('\\n').split('->')\n",
    "            a,b = [list(map(int,x.strip().split(','))) for x in m]\n",
    "            a = np.array(a)\n",
    "            b = np.array(b)\n",
    "            v1.append(a)\n",
    "            v2.append(b)\n",
    "            max_x = max([max_x,a[0],b[0]])\n",
    "            max_y = max([max_y,a[1],b[1]])\n",
    "    v1 = np.stack(v1)\n",
    "    v2 = np.stack(v2)\n",
    "    return v1,v2,max_x,max_y\n",
    "\n",
    "def setup_grid(v1,v2,max_x,max_y):\n",
    "    grid = np.zeros(shape = (max_x,max_y))\n",
    "    for s,e in zip(v1,v2):\n",
    "        if s[0] == e[0]:\n",
    "            grid[s[0],s[1]:e[1]+1] += 1\n",
    "        elif s[1] == e[1]:\n",
    "            grid[s[0]:e[0],s[1]+1] += 1\n",
    "    return grid\n",
    "\n",
    "def main():\n",
    "    v1,v2,max_x,max_y = get_lines()\n",
    "    \n",
    "    grid = setup_grid(v1,v2,max_x,max_y)\n",
    "    nbr_of2s = (grid >= 2).sum()\n",
    "    print(f'Puzzle 1, number of 2 line intersections: {nbr_of2s}')\n",
    "    return v1,v2,grid,nbr_of2s\n"
   ]
  },
  {
   "cell_type": "code",
   "execution_count": 13,
   "metadata": {},
   "outputs": [
    {
     "name": "stdout",
     "output_type": "stream",
     "text": [
      "Puzzle 1, number of 2 line intersections: 1885\n"
     ]
    }
   ],
   "source": [
    "v1,v2,grid,nbr_of2s = main()"
   ]
  },
  {
   "cell_type": "code",
   "execution_count": 29,
   "metadata": {},
   "outputs": [
    {
     "name": "stdout",
     "output_type": "stream",
     "text": [
      "10\n",
      "98\n"
     ]
    }
   ],
   "source": [
    "p = True\n",
    "for s,e in zip(v1,v2):\n",
    "    if p:\n",
    "        print(s[1])\n",
    "        print(e[1])\n",
    "        p = False"
   ]
  },
  {
   "cell_type": "code",
   "execution_count": 66,
   "metadata": {},
   "outputs": [
    {
     "data": {
      "text/plain": [
       "array([[ 4, 11,  9],\n",
       "       [ 5, 24, 14]])"
      ]
     },
     "execution_count": 66,
     "metadata": {},
     "output_type": "execute_result"
    }
   ],
   "source": [
    "a[:,0] += 1 \n",
    "a"
   ]
  },
  {
   "cell_type": "code",
   "execution_count": 1,
   "metadata": {},
   "outputs": [],
   "source": [
    "d = list(map(int,open('input/dataday6.txt','r').readlines()[0].split(',')))\n",
    "# d"
   ]
  },
  {
   "cell_type": "code",
   "execution_count": 16,
   "metadata": {},
   "outputs": [
    {
     "data": {
      "text/plain": [
       "2.0"
      ]
     },
     "execution_count": 16,
     "metadata": {},
     "output_type": "execute_result"
    }
   ],
   "source": [
    "a = '16,1,2,0,4,2,7,1,2,14'\n",
    "a = list(map(int,a.split(',')))\n",
    "import numpy as np \n",
    "np.median(a)"
   ]
  },
  {
   "cell_type": "code",
   "execution_count": 13,
   "metadata": {},
   "outputs": [
    {
     "data": {
      "text/plain": [
       "1927"
      ]
     },
     "execution_count": 13,
     "metadata": {},
     "output_type": "execute_result"
    }
   ],
   "source": [
    "data =  list(map(int,open('input/dataday7.txt','r').readlines()[0].split(',')))\n",
    "max(data)"
   ]
  },
  {
   "cell_type": "code",
   "execution_count": 4,
   "metadata": {},
   "outputs": [
    {
     "data": {
      "text/plain": [
       "'dfbae be gdafe gcefab'"
      ]
     },
     "execution_count": 4,
     "metadata": {},
     "output_type": "execute_result"
    }
   ],
   "source": [
    "open('input/dataday8.txt','r').readlines()[0].split('|')[-1].strip().strip('\\n')"
   ]
  },
  {
   "cell_type": "code",
   "execution_count": 17,
   "metadata": {},
   "outputs": [
    {
     "name": "stdout",
     "output_type": "stream",
     "text": [
      "['acedgfb', 'cdfbe', 'gcdfa', 'fbcad', 'dab', 'cefabd', 'cdfgeb', 'eafb', 'cagedb', 'ab']\n",
      "{'acedgfb': 8, 'dab': 7, 'eafb': 4, 'ab': 1, 'cdfbe': 5, 'gcdfa': 2, 'fbcad': 3, 'cefabd': 0, 'cdfgeb': 6, 'cagedb': 0}\n",
      "['acedgfb', 'cdfbe', 'gcdfa', 'fbcad', 'dab', 'cefabd', 'cdfgeb', 'eafb', 'cagedb', 'ab']\n",
      "{'acedgfb': 8, 'dab': 7, 'eafb': 4, 'ab': 1, 'cdfbe': 5, 'gcdfa': 2, 'fbcad': 3, 'cefabd': 0, 'cdfgeb': 6, 'cagedb': 0}\n",
      "['acedgfb', 'cdfbe', 'gcdfa', 'fbcad', 'dab', 'cefabd', 'cdfgeb', 'eafb', 'cagedb', 'ab']\n",
      "{'acedgfb': 8, 'dab': 7, 'eafb': 4, 'ab': 1, 'cdfbe': 5, 'gcdfa': 2, 'fbcad': 3, 'cefabd': 0, 'cdfgeb': 6, 'cagedb': 0}\n"
     ]
    },
    {
     "data": {
      "text/plain": [
       "5353.0"
      ]
     },
     "execution_count": 17,
     "metadata": {},
     "output_type": "execute_result"
    }
   ],
   "source": [
    "from day8 import decode,solve2\n",
    "nums = 'acedgfb cdfbe gcdfa fbcad dab cefabd cdfgeb eafb cagedb ab'.split(' ')\n",
    "outs = 'cdfeb fcadb cdfeb cdbaf'.split(' ')\n",
    "dec = decode(nums)\n",
    "inputs = [nums,nums]\n",
    "outputs = [outs,outs]\n",
    "s = solve2(inputs,outputs)\n",
    "s/2"
   ]
  },
  {
   "cell_type": "code",
   "execution_count": 20,
   "metadata": {},
   "outputs": [
    {
     "name": "stdout",
     "output_type": "stream",
     "text": [
      "True\n",
      "acedgfb\n",
      "True\n",
      "cdfbe\n",
      "True\n",
      "gcdfa\n",
      "True\n",
      "fbcad\n",
      "True\n",
      "dab\n",
      "False\n",
      "cefabd\n",
      "True\n",
      "cdfgeb\n",
      "True\n",
      "eafb\n",
      "True\n",
      "cagedb\n",
      "True\n",
      "ab\n",
      "10\n",
      "10\n"
     ]
    }
   ],
   "source": [
    "corr = {'acedgfb': 8,\n",
    "    'cdfbe': 5,\n",
    "    'gcdfa': 2,\n",
    "    'fbcad': 3,\n",
    "    'dab': 7,\n",
    "    'cefabd': 9,\n",
    "    'cdfgeb': 6,\n",
    "    'eafb': 4,\n",
    "    'cagedb': 0,\n",
    "    'ab': 1}\n",
    "for a in corr.keys():\n",
    "    print(corr[a] == dec[a])\n",
    "    print(a)\n",
    "print(len(corr.keys()))\n",
    "print(len(dec.keys()))\n"
   ]
  }
 ],
 "metadata": {
  "interpreter": {
   "hash": "916dbcbb3f70747c44a77c7bcd40155683ae19c65e1c03b4aa3499c5328201f1"
  },
  "kernelspec": {
   "display_name": "Python 3.8.10 64-bit",
   "language": "python",
   "name": "python3"
  },
  "language_info": {
   "codemirror_mode": {
    "name": "ipython",
    "version": 3
   },
   "file_extension": ".py",
   "mimetype": "text/x-python",
   "name": "python",
   "nbconvert_exporter": "python",
   "pygments_lexer": "ipython3",
   "version": "3.8.10"
  },
  "orig_nbformat": 4
 },
 "nbformat": 4,
 "nbformat_minor": 2
}
