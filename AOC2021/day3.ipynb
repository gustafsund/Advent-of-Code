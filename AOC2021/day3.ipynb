{
 "cells": [
  {
   "cell_type": "markdown",
   "metadata": {},
   "source": [
    "# Day 3\n",
    "## Puzzle 1"
   ]
  },
  {
   "cell_type": "code",
   "execution_count": 19,
   "metadata": {},
   "outputs": [
    {
     "name": "stdout",
     "output_type": "stream",
     "text": [
      "Power consumption: 3847100\n"
     ]
    }
   ],
   "source": [
    "data = [x.rstrip('\\n') for x in open('input/dataday3.txt','r').readlines()]\n",
    "N = len(data)\n",
    "n = len(data[0])\n",
    "count_list = [0]*n\n",
    "\n",
    "for i in range(N):\n",
    "    for j in range(n):\n",
    "        count_list[j] += int(data[i][j])\n",
    "majorities = [x > N/2 for x in count_list]\n",
    "minorities = [not x for x in majorities]\n",
    "\n",
    "gamma = 0\n",
    "epsilon = 0\n",
    "\n",
    "for i in range(n):\n",
    "    gamma += majorities[i]*2**(n-1-i)\n",
    "    epsilon += minorities[i]*2**(n-1-i)\n",
    "p_cons = gamma*epsilon\n",
    "print(f'Power consumption: {p_cons}')"
   ]
  },
  {
   "cell_type": "markdown",
   "metadata": {},
   "source": [
    "## Puzzle 2"
   ]
  },
  {
   "cell_type": "code",
   "execution_count": 20,
   "metadata": {},
   "outputs": [],
   "source": [
    "def get_rating(rem_data, majority,pos):\n",
    "    if len(rem_data) == 1: \n",
    "        return rem_data[0]\n",
    "    else:\n",
    "        counter = 0\n",
    "        for binary in rem_data:\n",
    "            counter += int(binary[pos])\n",
    "        \n",
    "        maj = int(counter >= len(rem_data)/2)\n",
    "        new_data = []\n",
    "        for binary in rem_data:\n",
    "            tmp = int(binary[pos])\n",
    "            b = tmp == maj\n",
    "            if majority == b:\n",
    "                new_data.append(binary)\n",
    "        return get_rating(new_data,majority,pos + 1)\n",
    "\n",
    "or_nbrs = get_rating(data,True,0)\n",
    "co2_nbrs = get_rating(data,False,0)"
   ]
  },
  {
   "cell_type": "code",
   "execution_count": 21,
   "metadata": {},
   "outputs": [
    {
     "name": "stdout",
     "output_type": "stream",
     "text": [
      "The life support rating is: 4105235\n"
     ]
    }
   ],
   "source": [
    "o_rate = 0\n",
    "co2_rate = 0\n",
    "\n",
    "for i in range(n):\n",
    "    o_rate += int(or_nbrs[i])*2**(n-1-i)\n",
    "    co2_rate += int(co2_nbrs[i])*2**(n-1-i)\n",
    "life_support_rating = o_rate*co2_rate\n",
    "print(f'The life support rating is: {life_support_rating}')"
   ]
  }
 ],
 "metadata": {
  "interpreter": {
   "hash": "916dbcbb3f70747c44a77c7bcd40155683ae19c65e1c03b4aa3499c5328201f1"
  },
  "kernelspec": {
   "display_name": "Python 3.8.10 64-bit",
   "language": "python",
   "name": "python3"
  },
  "language_info": {
   "codemirror_mode": {
    "name": "ipython",
    "version": 3
   },
   "file_extension": ".py",
   "mimetype": "text/x-python",
   "name": "python",
   "nbconvert_exporter": "python",
   "pygments_lexer": "ipython3",
   "version": "3.8.10"
  },
  "orig_nbformat": 4
 },
 "nbformat": 4,
 "nbformat_minor": 2
}
